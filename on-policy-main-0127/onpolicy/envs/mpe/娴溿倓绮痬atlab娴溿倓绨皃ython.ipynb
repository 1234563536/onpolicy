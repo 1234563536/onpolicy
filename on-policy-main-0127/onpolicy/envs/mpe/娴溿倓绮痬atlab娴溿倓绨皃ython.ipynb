{
 "cells": [
  {
   "cell_type": "code",
   "execution_count": null,
   "id": "systematic-rolling",
   "metadata": {
    "is_executing": true
   },
   "outputs": [],
   "source": [
    "import numpy as np\n",
    "import scipy.io as scio\n",
    "import matlab.engine"
   ]
  },
  {
   "cell_type": "code",
   "execution_count": null,
   "id": "conditional-national",
   "metadata": {
    "is_executing": true
   },
   "outputs": [],
   "source": [
    "eng = matlab.engine.start_matlab()"
   ]
  },
  {
   "cell_type": "markdown",
   "source": [],
   "metadata": {
    "collapsed": false
   }
  },
  {
   "cell_type": "code",
   "execution_count": 17,
   "id": "operating-darkness",
   "metadata": {
    "ExecuteTime": {
     "end_time": "2023-07-26T09:53:26.606247Z",
     "start_time": "2023-07-26T09:53:26.460948200Z"
    }
   },
   "outputs": [],
   "source": [
    "df = eng.environment()\n"
   ]
  },
  {
   "cell_type": "code",
   "execution_count": 18,
   "id": "nasty-shopper",
   "metadata": {
    "ExecuteTime": {
     "end_time": "2023-07-26T09:53:31.384364400Z",
     "start_time": "2023-07-26T09:53:31.366214600Z"
    }
   },
   "outputs": [],
   "source": [
    "def transtype(data):\n",
    "    if type(data) is list:\n",
    "        return matlab.double(data)\n",
    "    else:\n",
    "        return matlab.double(data.tolist())"
   ]
  },
  {
   "cell_type": "markdown",
   "id": "vertical-imaging",
   "metadata": {},
   "source": [
    "### 潮流计算"
   ]
  },
  {
   "cell_type": "code",
   "execution_count": 19,
   "id": "automatic-fruit",
   "metadata": {
    "ExecuteTime": {
     "end_time": "2023-07-26T09:53:38.491464900Z",
     "start_time": "2023-07-26T09:53:38.471515500Z"
    }
   },
   "outputs": [],
   "source": [
    "bus = scio.loadmat(\"./case118zh/busdata.mat\")[\"busdata\"]\n",
    "\n",
    "\n",
    "#### 输入变量\n",
    "# 1、T: 当前所有边状态\n",
    "T = transtype(np.array([1]*117+[0]*15))\n",
    "# 2、PN: 节点有功负荷\n",
    "PN = transtype(bus[:,2]/10./2.)\n",
    "# 3、QN: 节点无功负荷\n",
    "QN = transtype(bus[:,3]/10./2.)"
   ]
  },
  {
   "cell_type": "code",
   "execution_count": 20,
   "id": "creative-deputy",
   "metadata": {
    "ExecuteTime": {
     "end_time": "2023-07-26T09:53:52.201375400Z",
     "start_time": "2023-07-26T09:53:40.142531800Z"
    }
   },
   "outputs": [],
   "source": [
    "# 潮流计算过程，结果自行转换\n",
    "[Q,R,L,V,X,Pg] = eng.Calc_Distflow(T, PN, QN, df, nargout = 6)"
   ]
  },
  {
   "cell_type": "code",
   "execution_count": 21,
   "id": "blessed-refund",
   "metadata": {
    "ExecuteTime": {
     "end_time": "2023-07-26T09:53:54.154307900Z",
     "start_time": "2023-07-26T09:53:54.089108500Z"
    }
   },
   "outputs": [
    {
     "data": {
      "text/plain": "(118, 118)"
     },
     "execution_count": 21,
     "metadata": {},
     "output_type": "execute_result"
    }
   ],
   "source": [
    "np.array(Q).shape"
   ]
  },
  {
   "cell_type": "code",
   "execution_count": 22,
   "id": "appropriate-pearl",
   "metadata": {
    "ExecuteTime": {
     "end_time": "2023-07-26T09:54:29.299792Z",
     "start_time": "2023-07-26T09:54:29.233273900Z"
    }
   },
   "outputs": [
    {
     "data": {
      "text/plain": "(118, 118)"
     },
     "execution_count": 22,
     "metadata": {},
     "output_type": "execute_result"
    }
   ],
   "source": [
    "np.array(R).shape"
   ]
  },
  {
   "cell_type": "code",
   "execution_count": 23,
   "id": "right-mother",
   "metadata": {
    "ExecuteTime": {
     "end_time": "2023-07-26T09:54:32.915492200Z",
     "start_time": "2023-07-26T09:54:32.889513600Z"
    }
   },
   "outputs": [
    {
     "data": {
      "text/plain": "(117, 3)"
     },
     "execution_count": 23,
     "metadata": {},
     "output_type": "execute_result"
    }
   ],
   "source": [
    "np.array(L).shape"
   ]
  },
  {
   "cell_type": "code",
   "execution_count": 24,
   "id": "compliant-ordinary",
   "metadata": {
    "ExecuteTime": {
     "end_time": "2023-07-26T09:54:34.917273800Z",
     "start_time": "2023-07-26T09:54:34.893390100Z"
    }
   },
   "outputs": [
    {
     "data": {
      "text/plain": "(118, 1)"
     },
     "execution_count": 24,
     "metadata": {},
     "output_type": "execute_result"
    }
   ],
   "source": [
    "np.array(V).shape"
   ]
  },
  {
   "cell_type": "code",
   "execution_count": 11,
   "id": "scenic-imaging",
   "metadata": {},
   "outputs": [
    {
     "data": {
      "text/plain": [
       "(118, 118)"
      ]
     },
     "execution_count": 11,
     "metadata": {},
     "output_type": "execute_result"
    }
   ],
   "source": [
    "np.array(X).shape"
   ]
  },
  {
   "cell_type": "code",
   "execution_count": 12,
   "id": "southern-malpractice",
   "metadata": {},
   "outputs": [
    {
     "data": {
      "text/plain": [
       "1.165197797549618"
      ]
     },
     "execution_count": 12,
     "metadata": {},
     "output_type": "execute_result"
    }
   ],
   "source": [
    "Pg"
   ]
  },
  {
   "cell_type": "markdown",
   "id": "objective-funds",
   "metadata": {},
   "source": [
    "### P2P计算"
   ]
  },
  {
   "cell_type": "code",
   "execution_count": 13,
   "id": "communist-transition",
   "metadata": {},
   "outputs": [],
   "source": [
    "#### 输入变量\n",
    "# 1、ptr_vec：每个用户的P2P总交易量, shape (-1, 1)\n",
    "ptr_vec = transtype(np.array([0.001]*59 + [-0.001]*59).reshape(-1,1))\n",
    "# 2、T: 当前所有边状态，本示例同上"
   ]
  },
  {
   "cell_type": "code",
   "execution_count": 14,
   "id": "published-masters",
   "metadata": {},
   "outputs": [],
   "source": [
    "# p2p计算结果\n",
    "[ptr_matrix, FTR, g] = eng.Calc_P2P(T, ptr_vec, df,  nargout = 3)"
   ]
  },
  {
   "cell_type": "code",
   "execution_count": 15,
   "id": "hungry-institution",
   "metadata": {},
   "outputs": [
    {
     "data": {
      "text/plain": [
       "(118, 118)"
      ]
     },
     "execution_count": 15,
     "metadata": {},
     "output_type": "execute_result"
    }
   ],
   "source": [
    "np.array(ptr_matrix).shape"
   ]
  },
  {
   "cell_type": "code",
   "execution_count": 16,
   "id": "systematic-magnet",
   "metadata": {},
   "outputs": [
    {
     "data": {
      "text/plain": [
       "(1, 118)"
      ]
     },
     "execution_count": 16,
     "metadata": {},
     "output_type": "execute_result"
    }
   ],
   "source": [
    "np.array(FTR).shape"
   ]
  },
  {
   "cell_type": "code",
   "execution_count": 17,
   "id": "revised-camping",
   "metadata": {},
   "outputs": [
    {
     "data": {
      "text/plain": [
       "234.3600000000123"
      ]
     },
     "execution_count": 17,
     "metadata": {},
     "output_type": "execute_result"
    }
   ],
   "source": [
    "g"
   ]
  }
 ],
 "metadata": {
  "kernelspec": {
   "display_name": "Python 3",
   "language": "python",
   "name": "python3"
  },
  "language_info": {
   "codemirror_mode": {
    "name": "ipython",
    "version": 3
   },
   "file_extension": ".py",
   "mimetype": "text/x-python",
   "name": "python",
   "nbconvert_exporter": "python",
   "pygments_lexer": "ipython3",
   "version": "3.8.5"
  }
 },
 "nbformat": 4,
 "nbformat_minor": 5
}
