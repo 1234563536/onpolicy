{
 "cells": [
  {
   "cell_type": "code",
   "execution_count": 1,
   "id": "handmade-finland",
   "metadata": {
    "pycharm": {
     "is_executing": true
    }
   },
   "outputs": [],
   "source": [
    "import numpy as np\n",
    "import scipy.io as scio"
   ]
  },
  {
   "cell_type": "code",
   "execution_count": 2,
   "id": "certified-county",
   "metadata": {
    "pycharm": {
     "is_executing": true
    }
   },
   "outputs": [
    {
     "ename": "ModuleNotFoundError",
     "evalue": "No module named 'gurobipy'",
     "output_type": "error",
     "traceback": [
      "\u001b[1;31m---------------------------------------------------------------------------\u001b[0m",
      "\u001b[1;31mModuleNotFoundError\u001b[0m                       Traceback (most recent call last)",
      "Input \u001b[1;32mIn [2]\u001b[0m, in \u001b[0;36m<cell line: 1>\u001b[1;34m()\u001b[0m\n\u001b[1;32m----> 1\u001b[0m \u001b[38;5;28;01mfrom\u001b[39;00m \u001b[38;5;21;01mdistflow\u001b[39;00m \u001b[38;5;28;01mimport\u001b[39;00m PyDistflow\n",
      "File \u001b[1;32m~\\Desktop\\on-policy-1122\\on-policy-main\\onpolicy\\envs\\mpe\\distflow.py:3\u001b[0m, in \u001b[0;36m<module>\u001b[1;34m\u001b[0m\n\u001b[0;32m      1\u001b[0m \u001b[38;5;28;01mimport\u001b[39;00m \u001b[38;5;21;01mpandas\u001b[39;00m \u001b[38;5;28;01mas\u001b[39;00m \u001b[38;5;21;01mpd\u001b[39;00m\n\u001b[0;32m      2\u001b[0m \u001b[38;5;28;01mimport\u001b[39;00m \u001b[38;5;21;01mnumpy\u001b[39;00m \u001b[38;5;28;01mas\u001b[39;00m \u001b[38;5;21;01mnp\u001b[39;00m\n\u001b[1;32m----> 3\u001b[0m \u001b[38;5;28;01mfrom\u001b[39;00m \u001b[38;5;21;01mgurobipy\u001b[39;00m \u001b[38;5;28;01mimport\u001b[39;00m \u001b[38;5;241m*\u001b[39m\n\u001b[0;32m      5\u001b[0m \u001b[38;5;28;01mdef\u001b[39;00m \u001b[38;5;21mPyDistflow\u001b[39m(T, PN, QN, params):\n\u001b[0;32m      6\u001b[0m \n\u001b[0;32m      7\u001b[0m     \u001b[38;5;66;03m# 读取常量\u001b[39;00m\n\u001b[0;32m      8\u001b[0m     busNum \u001b[38;5;241m=\u001b[39m params[\u001b[38;5;124m\"\u001b[39m\u001b[38;5;124mbusNum\u001b[39m\u001b[38;5;124m\"\u001b[39m]\n",
      "\u001b[1;31mModuleNotFoundError\u001b[0m: No module named 'gurobipy'"
     ]
    }
   ],
   "source": [
    "from distflow import PyDistflow"
   ]
  },
  {
   "cell_type": "code",
   "execution_count": 5,
   "id": "advance-judgment",
   "metadata": {},
   "outputs": [
    {
     "name": "stdout",
     "output_type": "stream",
     "text": [
      "[[  1   0   0  10 -10   1 100   1  10   0   0   0   0   0   0   0   0   0\n",
      "    0   0   0]]\n"
     ]
    }
   ],
   "source": [
    "# 定义常数 此部分不变\n",
    "# params\n",
    "allbranch = scio.loadmat(\"./allbranch.mat\")[\"allbranch\"] # 读取支路数据\n",
    "params  = dict()\n",
    "params[\"busNum\"] = 118\n",
    "params[\"baseMVA\"] = 10 # 功率基准值为10MVA\n",
    "params[\"basekV\"] = 10 # 电压基准值为11kV\n",
    "params[\"baseI\"] = params[\"baseMVA\"]/params[\"basekV\"] # 电流基准值\n",
    "\n",
    "params[\"I_max\"] = 1.5*1/params[\"baseI\"]**2 # 电流最大值\n",
    "params[\"V_max\"] = 1.07**2 # 节点电压上限\n",
    "params[\"V_min\"] = 0.93**2 # 节点电压下限\n",
    "params[\"c\"] = [0.00059, 0.302, 0] # 发电成本\n",
    "params[\"bus_num\"] = np.array([i+1 for i in range(params[\"busNum\"])])\n",
    "G_Data = scio.loadmat(\"./gendata.mat\")[\"gendata\"] # 读取发电机节点数据\n",
    "params[\"gen_num\"] = G_Data[:,0].astype('int') # 发电机节点编号\n",
    "params[\"genP_max\"] = dict(zip(params[\"gen_num\"],G_Data[:,8])) # 发电机电压上限\n",
    "params[\"genQ_max\"] = dict(zip(params[\"gen_num\"],G_Data[:,3])) # 发电机电压下限\n",
    "params[\"commen_num\"] = list(set(params[\"bus_num\"].tolist())-set(params[\"gen_num\"].tolist())) # 非发电机节点\n",
    "params[\"allbranch\"] = allbranch\n",
    "print(G_Data)"
   ]
  },
  {
   "cell_type": "code",
   "execution_count": 4,
   "id": "approximate-chosen",
   "metadata": {},
   "outputs": [],
   "source": [
    "# 变量部分, 自行替换。这里的PN QN负荷是做了 /1e4转换后 的数据\n",
    "# node = scio.loadmat(\"./case118zh/busdata.mat\")[\"busdata\"]\n",
    "T= np.array([1] * 117 + [0]*15) # 变量\n",
    "PN = \n",
    "QN = "
   ]
  },
  {
   "cell_type": "code",
   "execution_count": 5,
   "id": "proprietary-parish",
   "metadata": {},
   "outputs": [
    {
     "data": {
      "text/plain": [
       "(118,)"
      ]
     },
     "execution_count": 5,
     "metadata": {},
     "output_type": "execute_result"
    }
   ],
   "source": [
    "PN.shape"
   ]
  },
  {
   "cell_type": "code",
   "execution_count": 6,
   "id": "adult-welcome",
   "metadata": {},
   "outputs": [],
   "source": [
    "import time\n",
    "t1 = time.time()"
   ]
  },
  {
   "cell_type": "code",
   "execution_count": 7,
   "id": "plastic-theta",
   "metadata": {},
   "outputs": [
    {
     "name": "stdout",
     "output_type": "stream",
     "text": [
      "Gurobi Optimizer version 10.0.2 build v10.0.2rc0 (mac64[x86])\n",
      "\n",
      "CPU model: Intel(R) Core(TM) i7-7920HQ CPU @ 3.10GHz\n",
      "Thread count: 4 physical cores, 8 logical processors, using up to 8 threads\n",
      "\n",
      "Optimize a model with 829 rows, 471 columns and 1765 nonzeros\n",
      "Model fingerprint: 0x989e0d2d\n",
      "Model has 1 quadratic objective term\n",
      "Model has 117 quadratic constraints\n",
      "Coefficient statistics:\n",
      "  Matrix range     [3e-06, 1e+00]\n",
      "  QMatrix range    [4e+00, 4e+00]\n",
      "  Objective range  [0e+00, 0e+00]\n",
      "  QObjective range [2e+00, 2e+00]\n",
      "  Bounds range     [9e-01, 2e+00]\n",
      "  RHS range        [6e-04, 1e+01]\n",
      "Presolve removed 476 rows and 1 columns\n",
      "Presolve time: 0.01s\n",
      "Presolved: 590 rows, 706 columns, 1986 nonzeros\n",
      "Presolved model has 118 second-order cone constraints\n",
      "Ordering time: 0.00s\n",
      "\n",
      "Barrier statistics:\n",
      " AA' NZ     : 2.824e+03\n",
      " Factor NZ  : 6.336e+03 (roughly 1 MB of memory)\n",
      " Factor Ops : 7.886e+04 (less than 1 second per iteration)\n",
      " Threads    : 1\n",
      "\n",
      "                  Objective                Residual\n",
      "Iter       Primal          Dual         Primal    Dual     Compl     Time\n",
      "   0   0.00000000e+00 -2.50115000e+01  8.38e+00 1.00e-01  4.66e-01     0s\n",
      "   1   2.98577676e-01 -2.98554683e+01  4.16e+00 1.10e-07  2.07e-01     0s\n",
      "   2   1.38242994e+00 -1.49414617e+01  9.49e-01 1.21e-13  5.01e-02     0s\n",
      "   3   1.55918061e+00 -2.13697119e+00  1.36e-01 4.44e-16  6.74e-03     0s\n",
      "   4   1.38526802e+00  3.77218906e-01  3.75e-02 6.66e-16  1.52e-03     0s\n",
      "   5   1.35976185e+00  1.13397717e+00  1.42e-02 4.44e-16  3.42e-04     0s\n",
      "   6   1.36029633e+00  1.34229417e+00  2.78e-03 8.88e-16  3.41e-05     0s\n",
      "   7   1.35955208e+00  1.35608519e+00  3.28e-04 9.77e-15  5.27e-06     0s\n",
      "   8   1.35817848e+00  1.35732418e+00  8.12e-05 5.51e-14  1.28e-06     0s\n",
      "   9   1.35788798e+00  1.35760248e+00  3.50e-05 4.52e-13  4.54e-07     0s\n",
      "  10   1.35778329e+00  1.35765620e+00  1.80e-05 4.71e-13  2.10e-07     0s\n",
      "  11   1.35771738e+00  1.35767245e+00  6.69e-06 1.66e-12  7.49e-08     0s\n",
      "  12   1.35769785e+00  1.35768639e+00  7.32e-07 8.12e-12  1.51e-08     0s\n",
      "  13   1.35769420e+00  1.35769187e+00  2.39e-07 1.17e-10  3.39e-09     0s\n",
      "  14   1.35769327e+00  1.35769283e+00  7.02e-08 1.03e-13  7.39e-10     0s\n",
      "\n",
      "Barrier solved model in 14 iterations and 0.06 seconds (0.01 work units)\n",
      "Optimal objective 1.35769327e+00\n",
      "\n"
     ]
    }
   ],
   "source": [
    "V, IL, R, X, Pg = PyDistflow(T, PN, QN, params)"
   ]
  },
  {
   "cell_type": "code",
   "execution_count": 8,
   "id": "absolute-mixture",
   "metadata": {},
   "outputs": [
    {
     "data": {
      "text/plain": [
       "1.1652010070594754"
      ]
     },
     "execution_count": 8,
     "metadata": {},
     "output_type": "execute_result"
    }
   ],
   "source": [
    "Pg"
   ]
  },
  {
   "cell_type": "code",
   "execution_count": 9,
   "id": "original-arnold",
   "metadata": {},
   "outputs": [
    {
     "name": "stdout",
     "output_type": "stream",
     "text": [
      "0.17021703720092773\n"
     ]
    }
   ],
   "source": [
    "t2 = time.time()\n",
    "print(t2-t1)"
   ]
  },
  {
   "cell_type": "code",
   "execution_count": null,
   "id": "traditional-blond",
   "metadata": {},
   "outputs": [],
   "source": []
  }
 ],
 "metadata": {
  "kernelspec": {
   "display_name": "Python 3 (ipykernel)",
   "language": "python",
   "name": "python3"
  },
  "language_info": {
   "codemirror_mode": {
    "name": "ipython",
    "version": 3
   },
   "file_extension": ".py",
   "mimetype": "text/x-python",
   "name": "python",
   "nbconvert_exporter": "python",
   "pygments_lexer": "ipython3",
   "version": "3.9.7"
  }
 },
 "nbformat": 4,
 "nbformat_minor": 5
}
